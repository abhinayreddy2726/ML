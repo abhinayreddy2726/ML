{
  "cells": [
    {
      "cell_type": "markdown",
      "source": "",
      "metadata": {
        "cell_id": "6e93298abbb84d2a8639feaea505ac28",
        "formattedRanges": [],
        "deepnote_cell_type": "text-cell-p"
      }
    },
    {
      "cell_type": "code",
      "source": "pip install statsmodels\n",
      "metadata": {
        "cell_id": "cf8702c05561468c97cdd735bb2ba518",
        "source_hash": "b941b11b",
        "execution_start": 1686639779222,
        "execution_millis": 7556,
        "deepnote_to_be_reexecuted": false,
        "deepnote_cell_type": "code"
      },
      "outputs": [
        {
          "name": "stdout",
          "text": "Collecting statsmodels\n  Downloading statsmodels-0.14.0-cp39-cp39-manylinux_2_17_x86_64.manylinux2014_x86_64.whl (10.1 MB)\n\u001b[2K     \u001b[90m━━━━━━━━━━━━━━━━━━━━━━━━━━━━━━━━━━━━━━━\u001b[0m \u001b[32m10.1/10.1 MB\u001b[0m \u001b[31m106.1 MB/s\u001b[0m eta \u001b[36m0:00:00\u001b[0m\n\u001b[?25hRequirement already satisfied: numpy>=1.18 in /shared-libs/python3.9/py/lib/python3.9/site-packages (from statsmodels) (1.23.4)\nCollecting patsy>=0.5.2\n  Downloading patsy-0.5.3-py2.py3-none-any.whl (233 kB)\n\u001b[2K     \u001b[90m━━━━━━━━━━━━━━━━━━━━━━━━━━━━━━━━━━━━━━\u001b[0m \u001b[32m233.8/233.8 KB\u001b[0m \u001b[31m50.3 MB/s\u001b[0m eta \u001b[36m0:00:00\u001b[0m\n\u001b[?25hRequirement already satisfied: packaging>=21.3 in /shared-libs/python3.9/py-core/lib/python3.9/site-packages (from statsmodels) (21.3)\nRequirement already satisfied: scipy!=1.9.2,>=1.4 in /shared-libs/python3.9/py/lib/python3.9/site-packages (from statsmodels) (1.9.3)\nRequirement already satisfied: pandas>=1.0 in /shared-libs/python3.9/py/lib/python3.9/site-packages (from statsmodels) (1.2.5)\nRequirement already satisfied: pyparsing!=3.0.5,>=2.0.2 in /shared-libs/python3.9/py-core/lib/python3.9/site-packages (from packaging>=21.3->statsmodels) (3.0.9)\nRequirement already satisfied: python-dateutil>=2.7.3 in /shared-libs/python3.9/py-core/lib/python3.9/site-packages (from pandas>=1.0->statsmodels) (2.8.2)\nRequirement already satisfied: pytz>=2017.3 in /shared-libs/python3.9/py/lib/python3.9/site-packages (from pandas>=1.0->statsmodels) (2022.5)\nRequirement already satisfied: six in /shared-libs/python3.9/py-core/lib/python3.9/site-packages (from patsy>=0.5.2->statsmodels) (1.16.0)\nInstalling collected packages: patsy, statsmodels\nSuccessfully installed patsy-0.5.3 statsmodels-0.14.0\n\u001b[33mWARNING: Running pip as the 'root' user can result in broken permissions and conflicting behaviour with the system package manager. It is recommended to use a virtual environment instead: https://pip.pypa.io/warnings/venv\u001b[0m\u001b[33m\n\u001b[0m\u001b[33mWARNING: You are using pip version 22.0.4; however, version 23.1.2 is available.\nYou should consider upgrading via the '/usr/local/bin/python -m pip install --upgrade pip' command.\u001b[0m\u001b[33m\n\u001b[0mNote: you may need to restart the kernel to use updated packages.\n",
          "output_type": "stream"
        }
      ],
      "execution_count": 1
    },
    {
      "cell_type": "code",
      "source": "import matplotlib.pyplot as plt\nimport numpy as np\nimport pandas as pd\nimport scipy as sp\nimport seaborn as sns\nimport statsmodels.api as sm\nimport statsmodels.tsa.api as smt\nimport warnings\nfrom sklearn.linear_model import LinearRegression\nfrom sklearn.model_selection import train_test_split",
      "metadata": {
        "cell_id": "55f1aa2ae2ea4e759fd04174b04f4f9b",
        "source_hash": "5c87a0f7",
        "execution_start": 1686639786791,
        "execution_millis": 2846,
        "deepnote_to_be_reexecuted": false,
        "deepnote_cell_type": "code"
      },
      "outputs": [],
      "execution_count": 2
    },
    {
      "cell_type": "code",
      "source": "data = pd.read_csv('multiple_linear_regression.csv')",
      "metadata": {
        "cell_id": "d2458097da654b4b9eca1a81965cf17d",
        "source_hash": "664468a2",
        "execution_start": 1686639789625,
        "execution_millis": 31,
        "deepnote_to_be_reexecuted": false,
        "deepnote_cell_type": "code"
      },
      "outputs": [],
      "execution_count": 3
    },
    {
      "cell_type": "code",
      "source": "data.head()",
      "metadata": {
        "cell_id": "04015911da9143c58df5b3c9877c570c",
        "source_hash": "41313cfa",
        "execution_start": 1686639789653,
        "execution_millis": 64,
        "deepnote_to_be_reexecuted": false,
        "deepnote_cell_type": "code"
      },
      "outputs": [
        {
          "output_type": "execute_result",
          "execution_count": 4,
          "data": {
            "application/vnd.deepnote.dataframe.v3+json": {
              "column_count": 4,
              "row_count": 5,
              "columns": [
                {
                  "name": "Feature 1",
                  "dtype": "float64",
                  "stats": {
                    "unique_count": 5,
                    "nan_count": 0,
                    "min": "17.2",
                    "max": "230.1",
                    "histogram": [
                      {
                        "bin_start": 17.2,
                        "bin_end": 38.489999999999995,
                        "count": 1
                      },
                      {
                        "bin_start": 38.489999999999995,
                        "bin_end": 59.78,
                        "count": 1
                      },
                      {
                        "bin_start": 59.78,
                        "bin_end": 81.07,
                        "count": 0
                      },
                      {
                        "bin_start": 81.07,
                        "bin_end": 102.36,
                        "count": 0
                      },
                      {
                        "bin_start": 102.36,
                        "bin_end": 123.64999999999999,
                        "count": 0
                      },
                      {
                        "bin_start": 123.64999999999999,
                        "bin_end": 144.94,
                        "count": 0
                      },
                      {
                        "bin_start": 144.94,
                        "bin_end": 166.23,
                        "count": 1
                      },
                      {
                        "bin_start": 166.23,
                        "bin_end": 187.51999999999998,
                        "count": 1
                      },
                      {
                        "bin_start": 187.51999999999998,
                        "bin_end": 208.80999999999997,
                        "count": 0
                      },
                      {
                        "bin_start": 208.80999999999997,
                        "bin_end": 230.1,
                        "count": 1
                      }
                    ]
                  }
                },
                {
                  "name": "Feature 2",
                  "dtype": "float64",
                  "stats": {
                    "unique_count": 5,
                    "nan_count": 0,
                    "min": "10.8",
                    "max": "45.9",
                    "histogram": [
                      {
                        "bin_start": 10.8,
                        "bin_end": 14.31,
                        "count": 1
                      },
                      {
                        "bin_start": 14.31,
                        "bin_end": 17.82,
                        "count": 0
                      },
                      {
                        "bin_start": 17.82,
                        "bin_end": 21.33,
                        "count": 0
                      },
                      {
                        "bin_start": 21.33,
                        "bin_end": 24.839999999999996,
                        "count": 0
                      },
                      {
                        "bin_start": 24.839999999999996,
                        "bin_end": 28.349999999999998,
                        "count": 0
                      },
                      {
                        "bin_start": 28.349999999999998,
                        "bin_end": 31.859999999999996,
                        "count": 0
                      },
                      {
                        "bin_start": 31.859999999999996,
                        "bin_end": 35.37,
                        "count": 0
                      },
                      {
                        "bin_start": 35.37,
                        "bin_end": 38.879999999999995,
                        "count": 1
                      },
                      {
                        "bin_start": 38.879999999999995,
                        "bin_end": 42.38999999999999,
                        "count": 2
                      },
                      {
                        "bin_start": 42.38999999999999,
                        "bin_end": 45.9,
                        "count": 1
                      }
                    ]
                  }
                },
                {
                  "name": "Feature 3",
                  "dtype": "float64",
                  "stats": {
                    "unique_count": 5,
                    "nan_count": 0,
                    "min": "45.1",
                    "max": "69.3",
                    "histogram": [
                      {
                        "bin_start": 45.1,
                        "bin_end": 47.52,
                        "count": 1
                      },
                      {
                        "bin_start": 47.52,
                        "bin_end": 49.94,
                        "count": 0
                      },
                      {
                        "bin_start": 49.94,
                        "bin_end": 52.36,
                        "count": 0
                      },
                      {
                        "bin_start": 52.36,
                        "bin_end": 54.78,
                        "count": 0
                      },
                      {
                        "bin_start": 54.78,
                        "bin_end": 57.2,
                        "count": 0
                      },
                      {
                        "bin_start": 57.2,
                        "bin_end": 59.62,
                        "count": 2
                      },
                      {
                        "bin_start": 59.62,
                        "bin_end": 62.04,
                        "count": 0
                      },
                      {
                        "bin_start": 62.04,
                        "bin_end": 64.46,
                        "count": 0
                      },
                      {
                        "bin_start": 64.46,
                        "bin_end": 66.88,
                        "count": 0
                      },
                      {
                        "bin_start": 66.88,
                        "bin_end": 69.3,
                        "count": 2
                      }
                    ]
                  }
                },
                {
                  "name": "Target",
                  "dtype": "float64",
                  "stats": {
                    "unique_count": 5,
                    "nan_count": 0,
                    "min": "9.3",
                    "max": "22.1",
                    "histogram": [
                      {
                        "bin_start": 9.3,
                        "bin_end": 10.58,
                        "count": 2
                      },
                      {
                        "bin_start": 10.58,
                        "bin_end": 11.860000000000001,
                        "count": 0
                      },
                      {
                        "bin_start": 11.860000000000001,
                        "bin_end": 13.14,
                        "count": 1
                      },
                      {
                        "bin_start": 13.14,
                        "bin_end": 14.420000000000002,
                        "count": 0
                      },
                      {
                        "bin_start": 14.420000000000002,
                        "bin_end": 15.700000000000001,
                        "count": 0
                      },
                      {
                        "bin_start": 15.700000000000001,
                        "bin_end": 16.98,
                        "count": 0
                      },
                      {
                        "bin_start": 16.98,
                        "bin_end": 18.26,
                        "count": 0
                      },
                      {
                        "bin_start": 18.26,
                        "bin_end": 19.54,
                        "count": 1
                      },
                      {
                        "bin_start": 19.54,
                        "bin_end": 20.82,
                        "count": 0
                      },
                      {
                        "bin_start": 20.82,
                        "bin_end": 22.1,
                        "count": 1
                      }
                    ]
                  }
                },
                {
                  "name": "_deepnote_index_column",
                  "dtype": "int64"
                }
              ],
              "rows": [
                {
                  "Feature 1": 230.1,
                  "Feature 2": 37.8,
                  "Feature 3": 69.2,
                  "Target": 22.1,
                  "_deepnote_index_column": 0
                },
                {
                  "Feature 1": 44.5,
                  "Feature 2": 39.3,
                  "Feature 3": 45.1,
                  "Target": 10.4,
                  "_deepnote_index_column": 1
                },
                {
                  "Feature 1": 17.2,
                  "Feature 2": 45.9,
                  "Feature 3": 69.3,
                  "Target": 9.3,
                  "_deepnote_index_column": 2
                },
                {
                  "Feature 1": 151.5,
                  "Feature 2": 41.3,
                  "Feature 3": 58.5,
                  "Target": 18.5,
                  "_deepnote_index_column": 3
                },
                {
                  "Feature 1": 180.8,
                  "Feature 2": 10.8,
                  "Feature 3": 58.4,
                  "Target": 12.9,
                  "_deepnote_index_column": 4
                }
              ]
            },
            "text/plain": "   Feature 1  Feature 2  Feature 3  Target\n0      230.1       37.8       69.2    22.1\n1       44.5       39.3       45.1    10.4\n2       17.2       45.9       69.3     9.3\n3      151.5       41.3       58.5    18.5\n4      180.8       10.8       58.4    12.9",
            "text/html": "<div>\n<style scoped>\n    .dataframe tbody tr th:only-of-type {\n        vertical-align: middle;\n    }\n\n    .dataframe tbody tr th {\n        vertical-align: top;\n    }\n\n    .dataframe thead th {\n        text-align: right;\n    }\n</style>\n<table border=\"1\" class=\"dataframe\">\n  <thead>\n    <tr style=\"text-align: right;\">\n      <th></th>\n      <th>Feature 1</th>\n      <th>Feature 2</th>\n      <th>Feature 3</th>\n      <th>Target</th>\n    </tr>\n  </thead>\n  <tbody>\n    <tr>\n      <th>0</th>\n      <td>230.1</td>\n      <td>37.8</td>\n      <td>69.2</td>\n      <td>22.1</td>\n    </tr>\n    <tr>\n      <th>1</th>\n      <td>44.5</td>\n      <td>39.3</td>\n      <td>45.1</td>\n      <td>10.4</td>\n    </tr>\n    <tr>\n      <th>2</th>\n      <td>17.2</td>\n      <td>45.9</td>\n      <td>69.3</td>\n      <td>9.3</td>\n    </tr>\n    <tr>\n      <th>3</th>\n      <td>151.5</td>\n      <td>41.3</td>\n      <td>58.5</td>\n      <td>18.5</td>\n    </tr>\n    <tr>\n      <th>4</th>\n      <td>180.8</td>\n      <td>10.8</td>\n      <td>58.4</td>\n      <td>12.9</td>\n    </tr>\n  </tbody>\n</table>\n</div>"
          },
          "metadata": {}
        }
      ],
      "execution_count": 4
    },
    {
      "cell_type": "code",
      "source": "data.info()",
      "metadata": {
        "cell_id": "49686a98efd044849bee90d111bbbb9a",
        "source_hash": "957547ae",
        "execution_start": 1686639789718,
        "execution_millis": 39,
        "deepnote_to_be_reexecuted": false,
        "deepnote_cell_type": "code"
      },
      "outputs": [
        {
          "name": "stdout",
          "text": "<class 'pandas.core.frame.DataFrame'>\nRangeIndex: 200 entries, 0 to 199\nData columns (total 4 columns):\n #   Column     Non-Null Count  Dtype  \n---  ------     --------------  -----  \n 0   Feature 1  200 non-null    float64\n 1   Feature 2  200 non-null    float64\n 2   Feature 3  200 non-null    float64\n 3   Target     200 non-null    float64\ndtypes: float64(4)\nmemory usage: 6.4 KB\n",
          "output_type": "stream"
        }
      ],
      "execution_count": 5
    },
    {
      "cell_type": "markdown",
      "source": "# Data Preprocessing",
      "metadata": {
        "cell_id": "cd0f56066ad644f9bc2a59b58b7accc2",
        "formattedRanges": [],
        "deepnote_cell_type": "text-cell-h1"
      }
    },
    {
      "cell_type": "markdown",
      "source": "Handling NULL Value",
      "metadata": {
        "cell_id": "7a59d1a7d5f443a89fbe18447c5e5093",
        "formattedRanges": [],
        "deepnote_cell_type": "text-cell-p"
      }
    },
    {
      "cell_type": "code",
      "source": "data = data.dropna()",
      "metadata": {
        "cell_id": "ca82cb1b74b9400da2c370542797ba4d",
        "source_hash": "c74386d9",
        "execution_start": 1686639789806,
        "execution_millis": 20,
        "deepnote_to_be_reexecuted": false,
        "deepnote_cell_type": "code"
      },
      "outputs": [],
      "execution_count": 6
    },
    {
      "cell_type": "code",
      "source": "data.shape",
      "metadata": {
        "cell_id": "d2aad40ec7c440f7a1cffc4e0241adba",
        "source_hash": "2007f58",
        "execution_start": 1686639789807,
        "execution_millis": 19,
        "deepnote_to_be_reexecuted": false,
        "deepnote_cell_type": "code"
      },
      "outputs": [
        {
          "output_type": "execute_result",
          "execution_count": 7,
          "data": {
            "text/plain": "(200, 4)"
          },
          "metadata": {}
        }
      ],
      "execution_count": 7
    },
    {
      "cell_type": "markdown",
      "source": "Splitting data",
      "metadata": {
        "cell_id": "a98b15bbd1964284a083ac3b45b8c5c6",
        "formattedRanges": [],
        "deepnote_cell_type": "text-cell-p"
      }
    },
    {
      "cell_type": "code",
      "source": "output_col = \"Target\" ",
      "metadata": {
        "cell_id": "d1b61edc1cd249deb7cd1b5dbd3103c6",
        "source_hash": "cdc45c0d",
        "execution_start": 1686639789847,
        "execution_millis": 5,
        "deepnote_to_be_reexecuted": false,
        "deepnote_cell_type": "code"
      },
      "outputs": [],
      "execution_count": 8
    },
    {
      "cell_type": "code",
      "source": "x = data.iloc[:, data.columns != output_col]\n",
      "metadata": {
        "cell_id": "3800704c75064f249edb691e29c62b7a",
        "source_hash": "1698a909",
        "execution_start": 1686639789848,
        "execution_millis": 59,
        "deepnote_to_be_reexecuted": false,
        "deepnote_cell_type": "code"
      },
      "outputs": [],
      "execution_count": 9
    },
    {
      "cell_type": "code",
      "source": "x.head()",
      "metadata": {
        "cell_id": "aba60bfd9e354173937e6c2e10adc359",
        "source_hash": "699fec56",
        "execution_start": 1686639789887,
        "execution_millis": 22,
        "deepnote_to_be_reexecuted": false,
        "deepnote_cell_type": "code"
      },
      "outputs": [
        {
          "output_type": "execute_result",
          "execution_count": 10,
          "data": {
            "application/vnd.deepnote.dataframe.v3+json": {
              "column_count": 3,
              "row_count": 5,
              "columns": [
                {
                  "name": "Feature 1",
                  "dtype": "float64",
                  "stats": {
                    "unique_count": 5,
                    "nan_count": 0,
                    "min": "17.2",
                    "max": "230.1",
                    "histogram": [
                      {
                        "bin_start": 17.2,
                        "bin_end": 38.489999999999995,
                        "count": 1
                      },
                      {
                        "bin_start": 38.489999999999995,
                        "bin_end": 59.78,
                        "count": 1
                      },
                      {
                        "bin_start": 59.78,
                        "bin_end": 81.07,
                        "count": 0
                      },
                      {
                        "bin_start": 81.07,
                        "bin_end": 102.36,
                        "count": 0
                      },
                      {
                        "bin_start": 102.36,
                        "bin_end": 123.64999999999999,
                        "count": 0
                      },
                      {
                        "bin_start": 123.64999999999999,
                        "bin_end": 144.94,
                        "count": 0
                      },
                      {
                        "bin_start": 144.94,
                        "bin_end": 166.23,
                        "count": 1
                      },
                      {
                        "bin_start": 166.23,
                        "bin_end": 187.51999999999998,
                        "count": 1
                      },
                      {
                        "bin_start": 187.51999999999998,
                        "bin_end": 208.80999999999997,
                        "count": 0
                      },
                      {
                        "bin_start": 208.80999999999997,
                        "bin_end": 230.1,
                        "count": 1
                      }
                    ]
                  }
                },
                {
                  "name": "Feature 2",
                  "dtype": "float64",
                  "stats": {
                    "unique_count": 5,
                    "nan_count": 0,
                    "min": "10.8",
                    "max": "45.9",
                    "histogram": [
                      {
                        "bin_start": 10.8,
                        "bin_end": 14.31,
                        "count": 1
                      },
                      {
                        "bin_start": 14.31,
                        "bin_end": 17.82,
                        "count": 0
                      },
                      {
                        "bin_start": 17.82,
                        "bin_end": 21.33,
                        "count": 0
                      },
                      {
                        "bin_start": 21.33,
                        "bin_end": 24.839999999999996,
                        "count": 0
                      },
                      {
                        "bin_start": 24.839999999999996,
                        "bin_end": 28.349999999999998,
                        "count": 0
                      },
                      {
                        "bin_start": 28.349999999999998,
                        "bin_end": 31.859999999999996,
                        "count": 0
                      },
                      {
                        "bin_start": 31.859999999999996,
                        "bin_end": 35.37,
                        "count": 0
                      },
                      {
                        "bin_start": 35.37,
                        "bin_end": 38.879999999999995,
                        "count": 1
                      },
                      {
                        "bin_start": 38.879999999999995,
                        "bin_end": 42.38999999999999,
                        "count": 2
                      },
                      {
                        "bin_start": 42.38999999999999,
                        "bin_end": 45.9,
                        "count": 1
                      }
                    ]
                  }
                },
                {
                  "name": "Feature 3",
                  "dtype": "float64",
                  "stats": {
                    "unique_count": 5,
                    "nan_count": 0,
                    "min": "45.1",
                    "max": "69.3",
                    "histogram": [
                      {
                        "bin_start": 45.1,
                        "bin_end": 47.52,
                        "count": 1
                      },
                      {
                        "bin_start": 47.52,
                        "bin_end": 49.94,
                        "count": 0
                      },
                      {
                        "bin_start": 49.94,
                        "bin_end": 52.36,
                        "count": 0
                      },
                      {
                        "bin_start": 52.36,
                        "bin_end": 54.78,
                        "count": 0
                      },
                      {
                        "bin_start": 54.78,
                        "bin_end": 57.2,
                        "count": 0
                      },
                      {
                        "bin_start": 57.2,
                        "bin_end": 59.62,
                        "count": 2
                      },
                      {
                        "bin_start": 59.62,
                        "bin_end": 62.04,
                        "count": 0
                      },
                      {
                        "bin_start": 62.04,
                        "bin_end": 64.46,
                        "count": 0
                      },
                      {
                        "bin_start": 64.46,
                        "bin_end": 66.88,
                        "count": 0
                      },
                      {
                        "bin_start": 66.88,
                        "bin_end": 69.3,
                        "count": 2
                      }
                    ]
                  }
                },
                {
                  "name": "_deepnote_index_column",
                  "dtype": "int64"
                }
              ],
              "rows": [
                {
                  "Feature 1": 230.1,
                  "Feature 2": 37.8,
                  "Feature 3": 69.2,
                  "_deepnote_index_column": 0
                },
                {
                  "Feature 1": 44.5,
                  "Feature 2": 39.3,
                  "Feature 3": 45.1,
                  "_deepnote_index_column": 1
                },
                {
                  "Feature 1": 17.2,
                  "Feature 2": 45.9,
                  "Feature 3": 69.3,
                  "_deepnote_index_column": 2
                },
                {
                  "Feature 1": 151.5,
                  "Feature 2": 41.3,
                  "Feature 3": 58.5,
                  "_deepnote_index_column": 3
                },
                {
                  "Feature 1": 180.8,
                  "Feature 2": 10.8,
                  "Feature 3": 58.4,
                  "_deepnote_index_column": 4
                }
              ]
            },
            "text/plain": "   Feature 1  Feature 2  Feature 3\n0      230.1       37.8       69.2\n1       44.5       39.3       45.1\n2       17.2       45.9       69.3\n3      151.5       41.3       58.5\n4      180.8       10.8       58.4",
            "text/html": "<div>\n<style scoped>\n    .dataframe tbody tr th:only-of-type {\n        vertical-align: middle;\n    }\n\n    .dataframe tbody tr th {\n        vertical-align: top;\n    }\n\n    .dataframe thead th {\n        text-align: right;\n    }\n</style>\n<table border=\"1\" class=\"dataframe\">\n  <thead>\n    <tr style=\"text-align: right;\">\n      <th></th>\n      <th>Feature 1</th>\n      <th>Feature 2</th>\n      <th>Feature 3</th>\n    </tr>\n  </thead>\n  <tbody>\n    <tr>\n      <th>0</th>\n      <td>230.1</td>\n      <td>37.8</td>\n      <td>69.2</td>\n    </tr>\n    <tr>\n      <th>1</th>\n      <td>44.5</td>\n      <td>39.3</td>\n      <td>45.1</td>\n    </tr>\n    <tr>\n      <th>2</th>\n      <td>17.2</td>\n      <td>45.9</td>\n      <td>69.3</td>\n    </tr>\n    <tr>\n      <th>3</th>\n      <td>151.5</td>\n      <td>41.3</td>\n      <td>58.5</td>\n    </tr>\n    <tr>\n      <th>4</th>\n      <td>180.8</td>\n      <td>10.8</td>\n      <td>58.4</td>\n    </tr>\n  </tbody>\n</table>\n</div>"
          },
          "metadata": {}
        }
      ],
      "execution_count": 10
    },
    {
      "cell_type": "code",
      "source": "y = data.loc[:, output_col]",
      "metadata": {
        "cell_id": "fc19db154e7e4982a1eabec677fcf406",
        "source_hash": "513e888e",
        "execution_start": 1686639789914,
        "execution_millis": 6,
        "deepnote_to_be_reexecuted": false,
        "deepnote_cell_type": "code"
      },
      "outputs": [],
      "execution_count": 11
    },
    {
      "cell_type": "code",
      "source": "\nfrom sklearn.model_selection import train_test_split\nx_train, x_test, y_train, y_test =  train_test_split(x, y, test_size = 0.30, random_state = 43)",
      "metadata": {
        "cell_id": "f272dcb6008043e88bf801699d4ba8f4",
        "source_hash": "3468dce1",
        "execution_start": 1686639789915,
        "execution_millis": 6,
        "deepnote_to_be_reexecuted": false,
        "deepnote_cell_type": "code"
      },
      "outputs": [],
      "execution_count": 12
    },
    {
      "cell_type": "code",
      "source": "data.shape",
      "metadata": {
        "cell_id": "0b0c5506955c40819abec39ccc3d8c6c",
        "source_hash": "2007f58",
        "execution_start": 1686639789939,
        "execution_millis": 12,
        "deepnote_to_be_reexecuted": false,
        "deepnote_cell_type": "code"
      },
      "outputs": [
        {
          "output_type": "execute_result",
          "execution_count": 13,
          "data": {
            "text/plain": "(200, 4)"
          },
          "metadata": {}
        }
      ],
      "execution_count": 13
    },
    {
      "cell_type": "markdown",
      "source": "# Linear Regression",
      "metadata": {
        "cell_id": "cb18d4f1664647a3b836d99f51b0b4b0",
        "formattedRanges": [],
        "deepnote_cell_type": "text-cell-h1"
      }
    },
    {
      "cell_type": "markdown",
      "source": "Training model",
      "metadata": {
        "cell_id": "a095919b02b94f1c9fa2194609d9c998",
        "formattedRanges": [],
        "deepnote_cell_type": "text-cell-p"
      }
    },
    {
      "cell_type": "code",
      "source": "from sklearn.linear_model import LinearRegression\n\nlr = LinearRegression()\nlr.fit(x_train, y_train)",
      "metadata": {
        "cell_id": "6c42befa5c944e44b8e984985557337c",
        "source_hash": "46171545",
        "execution_start": 1686639789990,
        "execution_millis": 3,
        "deepnote_to_be_reexecuted": false,
        "deepnote_cell_type": "code"
      },
      "outputs": [
        {
          "output_type": "execute_result",
          "execution_count": 14,
          "data": {
            "text/plain": "LinearRegression()",
            "text/html": "<style>#sk-container-id-1 {color: black;background-color: white;}#sk-container-id-1 pre{padding: 0;}#sk-container-id-1 div.sk-toggleable {background-color: white;}#sk-container-id-1 label.sk-toggleable__label {cursor: pointer;display: block;width: 100%;margin-bottom: 0;padding: 0.3em;box-sizing: border-box;text-align: center;}#sk-container-id-1 label.sk-toggleable__label-arrow:before {content: \"▸\";float: left;margin-right: 0.25em;color: #696969;}#sk-container-id-1 label.sk-toggleable__label-arrow:hover:before {color: black;}#sk-container-id-1 div.sk-estimator:hover label.sk-toggleable__label-arrow:before {color: black;}#sk-container-id-1 div.sk-toggleable__content {max-height: 0;max-width: 0;overflow: hidden;text-align: left;background-color: #f0f8ff;}#sk-container-id-1 div.sk-toggleable__content pre {margin: 0.2em;color: black;border-radius: 0.25em;background-color: #f0f8ff;}#sk-container-id-1 input.sk-toggleable__control:checked~div.sk-toggleable__content {max-height: 200px;max-width: 100%;overflow: auto;}#sk-container-id-1 input.sk-toggleable__control:checked~label.sk-toggleable__label-arrow:before {content: \"▾\";}#sk-container-id-1 div.sk-estimator input.sk-toggleable__control:checked~label.sk-toggleable__label {background-color: #d4ebff;}#sk-container-id-1 div.sk-label input.sk-toggleable__control:checked~label.sk-toggleable__label {background-color: #d4ebff;}#sk-container-id-1 input.sk-hidden--visually {border: 0;clip: rect(1px 1px 1px 1px);clip: rect(1px, 1px, 1px, 1px);height: 1px;margin: -1px;overflow: hidden;padding: 0;position: absolute;width: 1px;}#sk-container-id-1 div.sk-estimator {font-family: monospace;background-color: #f0f8ff;border: 1px dotted black;border-radius: 0.25em;box-sizing: border-box;margin-bottom: 0.5em;}#sk-container-id-1 div.sk-estimator:hover {background-color: #d4ebff;}#sk-container-id-1 div.sk-parallel-item::after {content: \"\";width: 100%;border-bottom: 1px solid gray;flex-grow: 1;}#sk-container-id-1 div.sk-label:hover label.sk-toggleable__label {background-color: #d4ebff;}#sk-container-id-1 div.sk-serial::before {content: \"\";position: absolute;border-left: 1px solid gray;box-sizing: border-box;top: 0;bottom: 0;left: 50%;z-index: 0;}#sk-container-id-1 div.sk-serial {display: flex;flex-direction: column;align-items: center;background-color: white;padding-right: 0.2em;padding-left: 0.2em;position: relative;}#sk-container-id-1 div.sk-item {position: relative;z-index: 1;}#sk-container-id-1 div.sk-parallel {display: flex;align-items: stretch;justify-content: center;background-color: white;position: relative;}#sk-container-id-1 div.sk-item::before, #sk-container-id-1 div.sk-parallel-item::before {content: \"\";position: absolute;border-left: 1px solid gray;box-sizing: border-box;top: 0;bottom: 0;left: 50%;z-index: -1;}#sk-container-id-1 div.sk-parallel-item {display: flex;flex-direction: column;z-index: 1;position: relative;background-color: white;}#sk-container-id-1 div.sk-parallel-item:first-child::after {align-self: flex-end;width: 50%;}#sk-container-id-1 div.sk-parallel-item:last-child::after {align-self: flex-start;width: 50%;}#sk-container-id-1 div.sk-parallel-item:only-child::after {width: 0;}#sk-container-id-1 div.sk-dashed-wrapped {border: 1px dashed gray;margin: 0 0.4em 0.5em 0.4em;box-sizing: border-box;padding-bottom: 0.4em;background-color: white;}#sk-container-id-1 div.sk-label label {font-family: monospace;font-weight: bold;display: inline-block;line-height: 1.2em;}#sk-container-id-1 div.sk-label-container {text-align: center;}#sk-container-id-1 div.sk-container {/* jupyter's `normalize.less` sets `[hidden] { display: none; }` but bootstrap.min.css set `[hidden] { display: none !important; }` so we also need the `!important` here to be able to override the default hidden behavior on the sphinx rendered scikit-learn.org. See: https://github.com/scikit-learn/scikit-learn/issues/21755 */display: inline-block !important;position: relative;}#sk-container-id-1 div.sk-text-repr-fallback {display: none;}</style><div id=\"sk-container-id-1\" class=\"sk-top-container\"><div class=\"sk-text-repr-fallback\"><pre>LinearRegression()</pre><b>In a Jupyter environment, please rerun this cell to show the HTML representation or trust the notebook. <br />On GitHub, the HTML representation is unable to render, please try loading this page with nbviewer.org.</b></div><div class=\"sk-container\" hidden><div class=\"sk-item\"><div class=\"sk-estimator sk-toggleable\"><input class=\"sk-toggleable__control sk-hidden--visually\" id=\"sk-estimator-id-1\" type=\"checkbox\" checked><label for=\"sk-estimator-id-1\" class=\"sk-toggleable__label sk-toggleable__label-arrow\">LinearRegression</label><div class=\"sk-toggleable__content\"><pre>LinearRegression()</pre></div></div></div></div></div>"
          },
          "metadata": {}
        }
      ],
      "execution_count": 14
    },
    {
      "cell_type": "code",
      "source": "lr.coef_",
      "metadata": {
        "cell_id": "a98dee0c54c647d38e2ba18d6f15a25d",
        "source_hash": "b6553113",
        "execution_start": 1686639789991,
        "execution_millis": 26,
        "deepnote_to_be_reexecuted": false,
        "deepnote_cell_type": "code"
      },
      "outputs": [
        {
          "output_type": "execute_result",
          "execution_count": 15,
          "data": {
            "text/plain": "array([ 0.0459782 ,  0.18092867, -0.00194226])"
          },
          "metadata": {}
        }
      ],
      "execution_count": 15
    },
    {
      "cell_type": "code",
      "source": "lr.intercept_",
      "metadata": {
        "cell_id": "5ce0602a337946a09979c86017b8b11b",
        "source_hash": "5878f8c7",
        "execution_start": 1686639790011,
        "execution_millis": 6,
        "deepnote_to_be_reexecuted": false,
        "deepnote_cell_type": "code"
      },
      "outputs": [
        {
          "output_type": "execute_result",
          "execution_count": 16,
          "data": {
            "text/plain": "3.077774495528045"
          },
          "metadata": {}
        }
      ],
      "execution_count": 16
    },
    {
      "cell_type": "markdown",
      "source": "Predicting Test_input",
      "metadata": {
        "cell_id": "7ace9c1cf4304306b41cf2bb93db838f",
        "formattedRanges": [],
        "deepnote_cell_type": "text-cell-p"
      }
    },
    {
      "cell_type": "code",
      "source": "predicted_value = lr.predict(x_test)",
      "metadata": {
        "cell_id": "10675bae6b284e6b9b40c58f58ff605b",
        "source_hash": "b129ad4b",
        "execution_start": 1686639790012,
        "execution_millis": 5,
        "deepnote_to_be_reexecuted": false,
        "deepnote_cell_type": "code"
      },
      "outputs": [],
      "execution_count": 17
    },
    {
      "cell_type": "code",
      "source": "from sklearn.metrics import mean_squared_error\n\ncost = mean_squared_error(y_test, predicted_value)",
      "metadata": {
        "cell_id": "81c464c2d6f1429eb8a824cc9da6248b",
        "source_hash": "3f5e4b6c",
        "execution_start": 1686639790013,
        "execution_millis": 9,
        "deepnote_to_be_reexecuted": false,
        "deepnote_cell_type": "code"
      },
      "outputs": [],
      "execution_count": 18
    },
    {
      "cell_type": "code",
      "source": "cost",
      "metadata": {
        "cell_id": "c8cdb33e59434c72825521675af19e55",
        "source_hash": "a052ec07",
        "execution_start": 1686639790067,
        "execution_millis": 9,
        "deepnote_to_be_reexecuted": false,
        "deepnote_cell_type": "code"
      },
      "outputs": [
        {
          "output_type": "execute_result",
          "execution_count": 19,
          "data": {
            "text/plain": "2.2412862530933477"
          },
          "metadata": {}
        }
      ],
      "execution_count": 19
    },
    {
      "cell_type": "code",
      "source": "plt.plot(x_test, y_test, \"*\", color = \"green\")\nplt.plot(x_test, predicted_value, \"+\", color = \"red\")\nplt.title(\"Performance testing\")\nplt.xlabel(\"Input\")\nplt.xticks(np.linspace(1, 500, 10))\nplt.ylabel(\"Output\")\nplt.show()",
      "metadata": {
        "cell_id": "e68e9b23901441ec9d4226efbe3622d1",
        "source_hash": "2ef1c5ec",
        "execution_start": 1686639790068,
        "execution_millis": 482,
        "deepnote_to_be_reexecuted": false,
        "deepnote_cell_type": "code"
      },
      "outputs": [
        {
          "data": {
            "text/plain": "<Figure size 640x480 with 1 Axes>",
            "image/png": "[encoded data removed]"
          },
          "metadata": {
            "image/png": {
              "width": 582,
              "height": 455
            }
          },
          "output_type": "display_data"
        }
      ],
      "execution_count": 20
    },
    {
      "cell_type": "markdown",
      "source": "# Assumptions of linear regression ",
      "metadata": {
        "cell_id": "1c4929f26ef04614afbf0a3dc23fcaeb",
        "formattedRanges": [],
        "deepnote_cell_type": "text-cell-h1"
      }
    },
    {
      "cell_type": "code",
      "source": "predicted_value",
      "metadata": {
        "cell_id": "ce3b123a1ca7448eaef73ffe43951f5e",
        "source_hash": "605d19ae",
        "execution_start": 1686639790548,
        "execution_millis": 6,
        "deepnote_to_be_reexecuted": false,
        "deepnote_cell_type": "code"
      },
      "outputs": [
        {
          "output_type": "execute_result",
          "execution_count": 21,
          "data": {
            "text/plain": "array([ 8.41710143, 15.36146115, 12.08619274,  9.75953058, 11.37799221,\n       18.73526253, 23.94158412,  7.11931733, 22.06606191, 16.83172907,\n        7.93115903, 23.07243791, 19.15729792,  5.47677475, 15.42102256,\n        9.82205717, 12.08023645,  9.76094922, 21.07717663,  9.13945016,\n       20.36205828, 12.03862691, 13.78082146, 10.73225482, 16.20061541,\n        7.77042699, 20.6251206 , 20.31966315,  8.97266008, 14.13746173,\n       17.28381353, 15.13827164, 17.18376843, 19.03374633, 17.13952183,\n       12.14670527, 12.7815946 ,  6.08135492, 10.06634988, 13.48921606,\n       12.01549843,  9.70107337,  5.35398678, 10.14966171, 14.224196  ,\n       14.04780871, 14.33053495, 10.39465714, 21.04417964, 13.74703482,\n        6.4651166 ,  7.90550808, 17.69866554, 17.74668208, 12.39498913,\n       12.69345805, 20.58946722, 18.4269009 ,  4.59145621,  6.82129794])"
          },
          "metadata": {}
        }
      ],
      "execution_count": 21
    },
    {
      "cell_type": "code",
      "source": "residuals = y_test - predicted_value",
      "metadata": {
        "cell_id": "ac82dfec66c3440d8484452116b89ca6",
        "source_hash": "108e3892",
        "execution_start": 1686639790574,
        "execution_millis": 12,
        "deepnote_to_be_reexecuted": false,
        "deepnote_cell_type": "code"
      },
      "outputs": [],
      "execution_count": 22
    },
    {
      "cell_type": "code",
      "source": "",
      "metadata": {
        "cell_id": "e9618f2f80d346cba0b23c5990a3a3e8",
        "source_hash": "b623e53d",
        "execution_start": 1686639790587,
        "execution_millis": 7,
        "deepnote_to_be_reexecuted": false,
        "deepnote_cell_type": "code"
      },
      "outputs": [],
      "execution_count": 23
    },
    {
      "cell_type": "code",
      "source": "plt.scatter(predicted_value,residuals)\nplt.xlabel('predicted_value')\nplt.ylabel('residuals')\nplt.show()",
      "metadata": {
        "cell_id": "b355bc2a7c834a70a599c897319c8946",
        "source_hash": "4672fde7",
        "execution_start": 1686639790593,
        "execution_millis": 316,
        "deepnote_to_be_reexecuted": false,
        "deepnote_cell_type": "code"
      },
      "outputs": [
        {
          "data": {
            "text/plain": "<Figure size 640x480 with 1 Axes>",
            "image/png": "[encoded data removed]"
          },
          "metadata": {
            "image/png": {
              "width": 565,
              "height": 433
            }
          },
          "output_type": "display_data"
        }
      ],
      "execution_count": 23
    },
    {
      "cell_type": "markdown",
      "source": "# Linear Regression with OLS Summary",
      "metadata": {
        "cell_id": "9fee136185f94d2e8171497501bad532",
        "formattedRanges": [],
        "deepnote_cell_type": "text-cell-h1"
      }
    },
    {
      "cell_type": "code",
      "source": "data.head()",
      "metadata": {
        "cell_id": "f0743bb8501a4ce5b53636eec7b9a458",
        "source_hash": "41313cfa",
        "execution_start": 1686639790949,
        "execution_millis": 46,
        "deepnote_to_be_reexecuted": false,
        "deepnote_cell_type": "code"
      },
      "outputs": [
        {
          "output_type": "execute_result",
          "execution_count": 24,
          "data": {
            "application/vnd.deepnote.dataframe.v3+json": {
              "column_count": 4,
              "row_count": 5,
              "columns": [
                {
                  "name": "Feature 1",
                  "dtype": "float64",
                  "stats": {
                    "unique_count": 5,
                    "nan_count": 0,
                    "min": "17.2",
                    "max": "230.1",
                    "histogram": [
                      {
                        "bin_start": 17.2,
                        "bin_end": 38.489999999999995,
                        "count": 1
                      },
                      {
                        "bin_start": 38.489999999999995,
                        "bin_end": 59.78,
                        "count": 1
                      },
                      {
                        "bin_start": 59.78,
                        "bin_end": 81.07,
                        "count": 0
                      },
                      {
                        "bin_start": 81.07,
                        "bin_end": 102.36,
                        "count": 0
                      },
                      {
                        "bin_start": 102.36,
                        "bin_end": 123.64999999999999,
                        "count": 0
                      },
                      {
                        "bin_start": 123.64999999999999,
                        "bin_end": 144.94,
                        "count": 0
                      },
                      {
                        "bin_start": 144.94,
                        "bin_end": 166.23,
                        "count": 1
                      },
                      {
                        "bin_start": 166.23,
                        "bin_end": 187.51999999999998,
                        "count": 1
                      },
                      {
                        "bin_start": 187.51999999999998,
                        "bin_end": 208.80999999999997,
                        "count": 0
                      },
                      {
                        "bin_start": 208.80999999999997,
                        "bin_end": 230.1,
                        "count": 1
                      }
                    ]
                  }
                },
                {
                  "name": "Feature 2",
                  "dtype": "float64",
                  "stats": {
                    "unique_count": 5,
                    "nan_count": 0,
                    "min": "10.8",
                    "max": "45.9",
                    "histogram": [
                      {
                        "bin_start": 10.8,
                        "bin_end": 14.31,
                        "count": 1
                      },
                      {
                        "bin_start": 14.31,
                        "bin_end": 17.82,
                        "count": 0
                      },
                      {
                        "bin_start": 17.82,
                        "bin_end": 21.33,
                        "count": 0
                      },
                      {
                        "bin_start": 21.33,
                        "bin_end": 24.839999999999996,
                        "count": 0
                      },
                      {
                        "bin_start": 24.839999999999996,
                        "bin_end": 28.349999999999998,
                        "count": 0
                      },
                      {
                        "bin_start": 28.349999999999998,
                        "bin_end": 31.859999999999996,
                        "count": 0
                      },
                      {
                        "bin_start": 31.859999999999996,
                        "bin_end": 35.37,
                        "count": 0
                      },
                      {
                        "bin_start": 35.37,
                        "bin_end": 38.879999999999995,
                        "count": 1
                      },
                      {
                        "bin_start": 38.879999999999995,
                        "bin_end": 42.38999999999999,
                        "count": 2
                      },
                      {
                        "bin_start": 42.38999999999999,
                        "bin_end": 45.9,
                        "count": 1
                      }
                    ]
                  }
                },
                {
                  "name": "Feature 3",
                  "dtype": "float64",
                  "stats": {
                    "unique_count": 5,
                    "nan_count": 0,
                    "min": "45.1",
                    "max": "69.3",
                    "histogram": [
                      {
                        "bin_start": 45.1,
                        "bin_end": 47.52,
                        "count": 1
                      },
                      {
                        "bin_start": 47.52,
                        "bin_end": 49.94,
                        "count": 0
                      },
                      {
                        "bin_start": 49.94,
                        "bin_end": 52.36,
                        "count": 0
                      },
                      {
                        "bin_start": 52.36,
                        "bin_end": 54.78,
                        "count": 0
                      },
                      {
                        "bin_start": 54.78,
                        "bin_end": 57.2,
                        "count": 0
                      },
                      {
                        "bin_start": 57.2,
                        "bin_end": 59.62,
                        "count": 2
                      },
                      {
                        "bin_start": 59.62,
                        "bin_end": 62.04,
                        "count": 0
                      },
                      {
                        "bin_start": 62.04,
                        "bin_end": 64.46,
                        "count": 0
                      },
                      {
                        "bin_start": 64.46,
                        "bin_end": 66.88,
                        "count": 0
                      },
                      {
                        "bin_start": 66.88,
                        "bin_end": 69.3,
                        "count": 2
                      }
                    ]
                  }
                },
                {
                  "name": "Target",
                  "dtype": "float64",
                  "stats": {
                    "unique_count": 5,
                    "nan_count": 0,
                    "min": "9.3",
                    "max": "22.1",
                    "histogram": [
                      {
                        "bin_start": 9.3,
                        "bin_end": 10.58,
                        "count": 2
                      },
                      {
                        "bin_start": 10.58,
                        "bin_end": 11.860000000000001,
                        "count": 0
                      },
                      {
                        "bin_start": 11.860000000000001,
                        "bin_end": 13.14,
                        "count": 1
                      },
                      {
                        "bin_start": 13.14,
                        "bin_end": 14.420000000000002,
                        "count": 0
                      },
                      {
                        "bin_start": 14.420000000000002,
                        "bin_end": 15.700000000000001,
                        "count": 0
                      },
                      {
                        "bin_start": 15.700000000000001,
                        "bin_end": 16.98,
                        "count": 0
                      },
                      {
                        "bin_start": 16.98,
                        "bin_end": 18.26,
                        "count": 0
                      },
                      {
                        "bin_start": 18.26,
                        "bin_end": 19.54,
                        "count": 1
                      },
                      {
                        "bin_start": 19.54,
                        "bin_end": 20.82,
                        "count": 0
                      },
                      {
                        "bin_start": 20.82,
                        "bin_end": 22.1,
                        "count": 1
                      }
                    ]
                  }
                },
                {
                  "name": "_deepnote_index_column",
                  "dtype": "int64"
                }
              ],
              "rows": [
                {
                  "Feature 1": 230.1,
                  "Feature 2": 37.8,
                  "Feature 3": 69.2,
                  "Target": 22.1,
                  "_deepnote_index_column": 0
                },
                {
                  "Feature 1": 44.5,
                  "Feature 2": 39.3,
                  "Feature 3": 45.1,
                  "Target": 10.4,
                  "_deepnote_index_column": 1
                },
                {
                  "Feature 1": 17.2,
                  "Feature 2": 45.9,
                  "Feature 3": 69.3,
                  "Target": 9.3,
                  "_deepnote_index_column": 2
                },
                {
                  "Feature 1": 151.5,
                  "Feature 2": 41.3,
                  "Feature 3": 58.5,
                  "Target": 18.5,
                  "_deepnote_index_column": 3
                },
                {
                  "Feature 1": 180.8,
                  "Feature 2": 10.8,
                  "Feature 3": 58.4,
                  "Target": 12.9,
                  "_deepnote_index_column": 4
                }
              ]
            },
            "text/plain": "   Feature 1  Feature 2  Feature 3  Target\n0      230.1       37.8       69.2    22.1\n1       44.5       39.3       45.1    10.4\n2       17.2       45.9       69.3     9.3\n3      151.5       41.3       58.5    18.5\n4      180.8       10.8       58.4    12.9",
            "text/html": "<div>\n<style scoped>\n    .dataframe tbody tr th:only-of-type {\n        vertical-align: middle;\n    }\n\n    .dataframe tbody tr th {\n        vertical-align: top;\n    }\n\n    .dataframe thead th {\n        text-align: right;\n    }\n</style>\n<table border=\"1\" class=\"dataframe\">\n  <thead>\n    <tr style=\"text-align: right;\">\n      <th></th>\n      <th>Feature 1</th>\n      <th>Feature 2</th>\n      <th>Feature 3</th>\n      <th>Target</th>\n    </tr>\n  </thead>\n  <tbody>\n    <tr>\n      <th>0</th>\n      <td>230.1</td>\n      <td>37.8</td>\n      <td>69.2</td>\n      <td>22.1</td>\n    </tr>\n    <tr>\n      <th>1</th>\n      <td>44.5</td>\n      <td>39.3</td>\n      <td>45.1</td>\n      <td>10.4</td>\n    </tr>\n    <tr>\n      <th>2</th>\n      <td>17.2</td>\n      <td>45.9</td>\n      <td>69.3</td>\n      <td>9.3</td>\n    </tr>\n    <tr>\n      <th>3</th>\n      <td>151.5</td>\n      <td>41.3</td>\n      <td>58.5</td>\n      <td>18.5</td>\n    </tr>\n    <tr>\n      <th>4</th>\n      <td>180.8</td>\n      <td>10.8</td>\n      <td>58.4</td>\n      <td>12.9</td>\n    </tr>\n  </tbody>\n</table>\n</div>"
          },
          "metadata": {}
        }
      ],
      "execution_count": 24
    },
    {
      "cell_type": "code",
      "source": "x_with_constant = sm.add_constant(x_train)\nx_with_constant",
      "metadata": {
        "cell_id": "7930664f1a5540d095421ca6fb276286",
        "source_hash": "a1e7aafb",
        "execution_start": 1686639790994,
        "execution_millis": 44,
        "deepnote_to_be_reexecuted": false,
        "deepnote_cell_type": "code"
      },
      "outputs": [
        {
          "output_type": "execute_result",
          "execution_count": 25,
          "data": {
            "application/vnd.deepnote.dataframe.v3+json": {
              "column_count": 4,
              "row_count": 140,
              "columns": [
                {
                  "name": "const",
                  "dtype": "float64",
                  "stats": {
                    "unique_count": 1,
                    "nan_count": 0,
                    "min": "1.0",
                    "max": "1.0",
                    "histogram": [
                      {
                        "bin_start": 0.5,
                        "bin_end": 0.6,
                        "count": 0
                      },
                      {
                        "bin_start": 0.6,
                        "bin_end": 0.7,
                        "count": 0
                      },
                      {
                        "bin_start": 0.7,
                        "bin_end": 0.8,
                        "count": 0
                      },
                      {
                        "bin_start": 0.8,
                        "bin_end": 0.9,
                        "count": 0
                      },
                      {
                        "bin_start": 0.9,
                        "bin_end": 1,
                        "count": 0
                      },
                      {
                        "bin_start": 1,
                        "bin_end": 1.1,
                        "count": 140
                      },
                      {
                        "bin_start": 1.1,
                        "bin_end": 1.2000000000000002,
                        "count": 0
                      },
                      {
                        "bin_start": 1.2000000000000002,
                        "bin_end": 1.3,
                        "count": 0
                      },
                      {
                        "bin_start": 1.3,
                        "bin_end": 1.4,
                        "count": 0
                      },
                      {
                        "bin_start": 1.4,
                        "bin_end": 1.5,
                        "count": 0
                      }
                    ]
                  }
                },
                {
                  "name": "Feature 1",
                  "dtype": "float64",
                  "stats": {
                    "unique_count": 135,
                    "nan_count": 0,
                    "min": "0.7",
                    "max": "296.4",
                    "histogram": [
                      {
                        "bin_start": 0.7,
                        "bin_end": 30.27,
                        "count": 17
                      },
                      {
                        "bin_start": 30.27,
                        "bin_end": 59.84,
                        "count": 8
                      },
                      {
                        "bin_start": 59.84,
                        "bin_end": 89.41000000000001,
                        "count": 15
                      },
                      {
                        "bin_start": 89.41000000000001,
                        "bin_end": 118.98,
                        "count": 17
                      },
                      {
                        "bin_start": 118.98,
                        "bin_end": 148.54999999999998,
                        "count": 11
                      },
                      {
                        "bin_start": 148.54999999999998,
                        "bin_end": 178.12,
                        "count": 10
                      },
                      {
                        "bin_start": 178.12,
                        "bin_end": 207.69,
                        "count": 17
                      },
                      {
                        "bin_start": 207.69,
                        "bin_end": 237.26,
                        "count": 17
                      },
                      {
                        "bin_start": 237.26,
                        "bin_end": 266.83,
                        "count": 17
                      },
                      {
                        "bin_start": 266.83,
                        "bin_end": 296.4,
                        "count": 11
                      }
                    ]
                  }
                },
                {
                  "name": "Feature 2",
                  "dtype": "float64",
                  "stats": {
                    "unique_count": 123,
                    "nan_count": 0,
                    "min": "0.0",
                    "max": "49.6",
                    "histogram": [
                      {
                        "bin_start": 0,
                        "bin_end": 4.96,
                        "count": 25
                      },
                      {
                        "bin_start": 4.96,
                        "bin_end": 9.92,
                        "count": 12
                      },
                      {
                        "bin_start": 9.92,
                        "bin_end": 14.879999999999999,
                        "count": 13
                      },
                      {
                        "bin_start": 14.879999999999999,
                        "bin_end": 19.84,
                        "count": 10
                      },
                      {
                        "bin_start": 19.84,
                        "bin_end": 24.8,
                        "count": 10
                      },
                      {
                        "bin_start": 24.8,
                        "bin_end": 29.759999999999998,
                        "count": 17
                      },
                      {
                        "bin_start": 29.759999999999998,
                        "bin_end": 34.72,
                        "count": 10
                      },
                      {
                        "bin_start": 34.72,
                        "bin_end": 39.68,
                        "count": 15
                      },
                      {
                        "bin_start": 39.68,
                        "bin_end": 44.64,
                        "count": 20
                      },
                      {
                        "bin_start": 44.64,
                        "bin_end": 49.6,
                        "count": 8
                      }
                    ]
                  }
                },
                {
                  "name": "Feature 3",
                  "dtype": "float64",
                  "stats": {
                    "unique_count": 122,
                    "nan_count": 0,
                    "min": "0.3",
                    "max": "114.0",
                    "histogram": [
                      {
                        "bin_start": 0.3,
                        "bin_end": 11.670000000000002,
                        "count": 38
                      },
                      {
                        "bin_start": 11.670000000000002,
                        "bin_end": 23.040000000000003,
                        "count": 26
                      },
                      {
                        "bin_start": 23.040000000000003,
                        "bin_end": 34.41,
                        "count": 25
                      },
                      {
                        "bin_start": 34.41,
                        "bin_end": 45.78,
                        "count": 20
                      },
                      {
                        "bin_start": 45.78,
                        "bin_end": 57.150000000000006,
                        "count": 14
                      },
                      {
                        "bin_start": 57.150000000000006,
                        "bin_end": 68.52,
                        "count": 8
                      },
                      {
                        "bin_start": 68.52,
                        "bin_end": 79.89,
                        "count": 5
                      },
                      {
                        "bin_start": 79.89,
                        "bin_end": 91.26,
                        "count": 2
                      },
                      {
                        "bin_start": 91.26,
                        "bin_end": 102.63000000000001,
                        "count": 1
                      },
                      {
                        "bin_start": 102.63000000000001,
                        "bin_end": 114,
                        "count": 1
                      }
                    ]
                  }
                },
                {
                  "name": "_deepnote_index_column",
                  "dtype": "int64"
                }
              ],
              "rows": [
                {
                  "const": 1,
                  "Feature 1": 109.8,
                  "Feature 2": 14.3,
                  "Feature 3": 31.7,
                  "_deepnote_index_column": 71
                },
                {
                  "const": 1,
                  "Feature 1": 134.3,
                  "Feature 2": 4.9,
                  "Feature 3": 9.3,
                  "_deepnote_index_column": 90
                },
                {
                  "const": 1,
                  "Feature 1": 222.4,
                  "Feature 2": 4.3,
                  "Feature 3": 49.8,
                  "_deepnote_index_column": 100
                },
                {
                  "const": 1,
                  "Feature 1": 25.1,
                  "Feature 2": 25.7,
                  "Feature 3": 43.3,
                  "_deepnote_index_column": 44
                },
                {
                  "const": 1,
                  "Feature 1": 107.4,
                  "Feature 2": 14,
                  "Feature 3": 10.9,
                  "_deepnote_index_column": 94
                },
                {
                  "const": 1,
                  "Feature 1": 248.4,
                  "Feature 2": 30.2,
                  "Feature 3": 20.3,
                  "_deepnote_index_column": 176
                },
                {
                  "const": 1,
                  "Feature 1": 220.5,
                  "Feature 2": 33.2,
                  "Feature 3": 37.9,
                  "_deepnote_index_column": 142
                },
                {
                  "const": 1,
                  "Feature 1": 209.6,
                  "Feature 2": 20.6,
                  "Feature 3": 10.7,
                  "_deepnote_index_column": 113
                },
                {
                  "const": 1,
                  "Feature 1": 182.6,
                  "Feature 2": 46.2,
                  "Feature 3": 58.7,
                  "_deepnote_index_column": 53
                },
                {
                  "const": 1,
                  "Feature 1": 218.4,
                  "Feature 2": 27.7,
                  "Feature 3": 53.4,
                  "_deepnote_index_column": 20
                }
              ]
            },
            "text/plain": "     const  Feature 1  Feature 2  Feature 3\n71     1.0      109.8       14.3       31.7\n90     1.0      134.3        4.9        9.3\n100    1.0      222.4        4.3       49.8\n44     1.0       25.1       25.7       43.3\n94     1.0      107.4       14.0       10.9\n..     ...        ...        ...        ...\n58     1.0      210.8       49.6       37.7\n21     1.0      237.4        5.1       23.5\n49     1.0       66.9       11.7       36.8\n64     1.0      131.1       42.8       28.9\n68     1.0      237.4       27.5       11.0\n\n[140 rows x 4 columns]",
            "text/html": "<div>\n<style scoped>\n    .dataframe tbody tr th:only-of-type {\n        vertical-align: middle;\n    }\n\n    .dataframe tbody tr th {\n        vertical-align: top;\n    }\n\n    .dataframe thead th {\n        text-align: right;\n    }\n</style>\n<table border=\"1\" class=\"dataframe\">\n  <thead>\n    <tr style=\"text-align: right;\">\n      <th></th>\n      <th>const</th>\n      <th>Feature 1</th>\n      <th>Feature 2</th>\n      <th>Feature 3</th>\n    </tr>\n  </thead>\n  <tbody>\n    <tr>\n      <th>71</th>\n      <td>1.0</td>\n      <td>109.8</td>\n      <td>14.3</td>\n      <td>31.7</td>\n    </tr>\n    <tr>\n      <th>90</th>\n      <td>1.0</td>\n      <td>134.3</td>\n      <td>4.9</td>\n      <td>9.3</td>\n    </tr>\n    <tr>\n      <th>100</th>\n      <td>1.0</td>\n      <td>222.4</td>\n      <td>4.3</td>\n      <td>49.8</td>\n    </tr>\n    <tr>\n      <th>44</th>\n      <td>1.0</td>\n      <td>25.1</td>\n      <td>25.7</td>\n      <td>43.3</td>\n    </tr>\n    <tr>\n      <th>94</th>\n      <td>1.0</td>\n      <td>107.4</td>\n      <td>14.0</td>\n      <td>10.9</td>\n    </tr>\n    <tr>\n      <th>...</th>\n      <td>...</td>\n      <td>...</td>\n      <td>...</td>\n      <td>...</td>\n    </tr>\n    <tr>\n      <th>58</th>\n      <td>1.0</td>\n      <td>210.8</td>\n      <td>49.6</td>\n      <td>37.7</td>\n    </tr>\n    <tr>\n      <th>21</th>\n      <td>1.0</td>\n      <td>237.4</td>\n      <td>5.1</td>\n      <td>23.5</td>\n    </tr>\n    <tr>\n      <th>49</th>\n      <td>1.0</td>\n      <td>66.9</td>\n      <td>11.7</td>\n      <td>36.8</td>\n    </tr>\n    <tr>\n      <th>64</th>\n      <td>1.0</td>\n      <td>131.1</td>\n      <td>42.8</td>\n      <td>28.9</td>\n    </tr>\n    <tr>\n      <th>68</th>\n      <td>1.0</td>\n      <td>237.4</td>\n      <td>27.5</td>\n      <td>11.0</td>\n    </tr>\n  </tbody>\n</table>\n<p>140 rows × 4 columns</p>\n</div>"
          },
          "metadata": {}
        }
      ],
      "execution_count": 25
    },
    {
      "cell_type": "code",
      "source": "model = sm.OLS(y_train,x_with_constant)",
      "metadata": {
        "cell_id": "b3ffd5b1f70840fd94dd40e2fa142865",
        "source_hash": "e648b78",
        "execution_start": 1686639791043,
        "execution_millis": 7,
        "deepnote_to_be_reexecuted": false,
        "deepnote_cell_type": "code"
      },
      "outputs": [],
      "execution_count": 26
    },
    {
      "cell_type": "markdown",
      "source": "",
      "metadata": {
        "cell_id": "bb7e959a3b1e4d67a4f9314653269d29",
        "formattedRanges": [],
        "deepnote_cell_type": "text-cell-p"
      }
    },
    {
      "cell_type": "code",
      "source": "result =model.fit()",
      "metadata": {
        "cell_id": "492aa0ab481a4fe3b157fc55f15bb160",
        "source_hash": "deed8a65",
        "execution_start": 1686639791098,
        "execution_millis": 4,
        "deepnote_to_be_reexecuted": false,
        "deepnote_cell_type": "code"
      },
      "outputs": [],
      "execution_count": 27
    },
    {
      "cell_type": "code",
      "source": "result.params",
      "metadata": {
        "cell_id": "50e4fe9dfac446f3a9cb18be1b952f0d",
        "source_hash": "10a3874d",
        "execution_start": 1686639791099,
        "execution_millis": 3,
        "deepnote_to_be_reexecuted": false,
        "deepnote_cell_type": "code"
      },
      "outputs": [
        {
          "output_type": "execute_result",
          "execution_count": 28,
          "data": {
            "text/plain": "const        3.077774\nFeature 1    0.045978\nFeature 2    0.180929\nFeature 3   -0.001942\ndtype: float64"
          },
          "metadata": {}
        }
      ],
      "execution_count": 28
    },
    {
      "cell_type": "code",
      "source": "lr.coef_",
      "metadata": {
        "cell_id": "b1dc489a1bd34be9bc11b0db0d38c417",
        "source_hash": "b6553113",
        "execution_start": 1686639791100,
        "execution_millis": 2,
        "deepnote_to_be_reexecuted": false,
        "deepnote_cell_type": "code"
      },
      "outputs": [
        {
          "output_type": "execute_result",
          "execution_count": 29,
          "data": {
            "text/plain": "array([ 0.0459782 ,  0.18092867, -0.00194226])"
          },
          "metadata": {}
        }
      ],
      "execution_count": 29
    },
    {
      "cell_type": "code",
      "source": "lr.intercept_",
      "metadata": {
        "cell_id": "63e56598542941d6853d19368f651364",
        "source_hash": "5878f8c7",
        "execution_start": 1686639791146,
        "execution_millis": 2,
        "deepnote_to_be_reexecuted": false,
        "deepnote_cell_type": "code"
      },
      "outputs": [
        {
          "output_type": "execute_result",
          "execution_count": 30,
          "data": {
            "text/plain": "3.077774495528045"
          },
          "metadata": {}
        }
      ],
      "execution_count": 30
    },
    {
      "cell_type": "code",
      "source": "print(result.summary())",
      "metadata": {
        "cell_id": "b0132e90718c4083804a2997c4fc11de",
        "source_hash": "a4c9013",
        "execution_start": 1686639791147,
        "execution_millis": 64,
        "deepnote_to_be_reexecuted": false,
        "deepnote_cell_type": "code"
      },
      "outputs": [
        {
          "name": "stdout",
          "text": "                            OLS Regression Results                            \n==============================================================================\nDep. Variable:                 Target   R-squared:                       0.884\nModel:                            OLS   Adj. R-squared:                  0.882\nMethod:                 Least Squares   F-statistic:                     346.9\nDate:                Tue, 13 Jun 2023   Prob (F-statistic):           1.67e-63\nTime:                        07:03:11   Log-Likelihood:                -276.47\nNo. Observations:                 140   AIC:                             560.9\nDf Residuals:                     136   BIC:                             572.7\nDf Model:                           3                                         \nCovariance Type:            nonrobust                                         \n==============================================================================\n                 coef    std err          t      P>|t|      [0.025      0.975]\n------------------------------------------------------------------------------\nconst          3.0778      0.398      7.735      0.000       2.291       3.865\nFeature 1      0.0460      0.002     26.108      0.000       0.042       0.049\nFeature 2      0.1809      0.010     17.575      0.000       0.161       0.201\nFeature 3     -0.0019      0.007     -0.280      0.780      -0.016       0.012\n==============================================================================\nOmnibus:                       51.703   Durbin-Watson:                   2.206\nProb(Omnibus):                  0.000   Jarque-Bera (JB):              130.812\nSkew:                          -1.502   Prob(JB):                     3.93e-29\nKurtosis:                       6.661   Cond. No.                         468.\n==============================================================================\n\nNotes:\n[1] Standard Errors assume that the covariance matrix of the errors is correctly specified.\n",
          "output_type": "stream"
        }
      ],
      "execution_count": 31
    },
    {
      "cell_type": "code",
      "source": "x_test= sm.add_constant(x_test)",
      "metadata": {
        "cell_id": "4f36e275982649e7af26c2b8fde37805",
        "source_hash": "afd75191",
        "execution_start": 1686639791226,
        "execution_millis": 3,
        "deepnote_to_be_reexecuted": false,
        "deepnote_cell_type": "code"
      },
      "outputs": [],
      "execution_count": 32
    },
    {
      "cell_type": "code",
      "source": "y_pred = result.predict(x_test)\n",
      "metadata": {
        "cell_id": "6fb64a6f554d4c62af4fa32ed2c71a35",
        "source_hash": "9c84257b",
        "execution_start": 1686639791226,
        "execution_millis": 3,
        "deepnote_to_be_reexecuted": false,
        "deepnote_cell_type": "code"
      },
      "outputs": [],
      "execution_count": 33
    },
    {
      "cell_type": "code",
      "source": "residual = y_test - y_pred",
      "metadata": {
        "cell_id": "1f1d4ccff7194facb85634b66544178c",
        "source_hash": "56f74c2a",
        "execution_start": 1686640032733,
        "execution_millis": 8,
        "deepnote_to_be_reexecuted": false,
        "deepnote_cell_type": "code"
      },
      "outputs": [],
      "execution_count": 34
    },
    {
      "cell_type": "code",
      "source": "residual",
      "metadata": {
        "cell_id": "7d05a5fce90c44d2a73e132f5b435439",
        "source_hash": "28156710",
        "execution_start": 1686640034487,
        "execution_millis": 3,
        "deepnote_to_be_reexecuted": false,
        "deepnote_cell_type": "code"
      },
      "outputs": [
        {
          "output_type": "execute_result",
          "execution_count": 35,
          "data": {
            "text/plain": "56    -2.917101\n37    -0.661461\n67     1.313807\n79     1.240469\n80     0.422008\n188   -2.835263\n183    2.258416\n10     1.480683\n128    2.633938\n62    -1.131729\n65     1.368841\n17     1.327562\n133    0.442702\n195    2.123225\n146   -2.221023\n38     0.277943\n173   -0.380236\n149    0.339051\n93     1.122823\n29     1.360550\n0      1.737942\n2     -2.738627\n122   -2.180821\n180   -0.232255\n95     0.699385\n121   -0.770427\n185    1.974879\n39     1.180337\n66     0.527340\n19     0.462538\n11     0.116186\n45    -0.238272\n41    -0.083768\n92     0.366254\n168   -0.039522\n1     -1.746705\n57     0.418405\n189    0.618645\n151    1.533650\n167   -1.289216\n116    0.184502\n138   -0.101073\n155   -2.153987\n82     1.150338\n160    0.175804\n181   -1.847809\n171    0.169465\n12    -1.194657\n55     2.655820\n77     0.452965\n22    -0.865117\n129    1.794492\n105    1.501334\n102   -2.946682\n159    0.505011\n9     -2.093458\n15     1.810533\n150   -2.326901\n76     2.308544\n119   -0.221298\ndtype: float64"
          },
          "metadata": {}
        }
      ],
      "execution_count": 35
    },
    {
      "cell_type": "code",
      "source": "np.mean(residual)",
      "metadata": {
        "cell_id": "8ec7a0eaabb34e569c56079c8107b23b",
        "source_hash": "c806c75e",
        "execution_start": 1686640046605,
        "execution_millis": 1,
        "deepnote_to_be_reexecuted": false,
        "deepnote_cell_type": "code"
      },
      "outputs": [
        {
          "output_type": "execute_result",
          "execution_count": 36,
          "data": {
            "text/plain": "0.11398299824530957"
          },
          "metadata": {}
        }
      ],
      "execution_count": 36
    },
    {
      "cell_type": "markdown",
      "source": "<a style='text-decoration:none;line-height:16px;display:flex;color:#5B5B62;padding:10px;justify-content:end;' href='https://deepnote.com?utm_source=created-in-deepnote-cell&projectId=6b95eb9a-4018-42ec-a236-43554b90fd85' target=\"_blank\">\n<img alt='Created in deepnote.com' style='display:inline;max-height:16px;margin:0px;margin-right:7.5px;' src='data:image/svg+xml;base64,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' > </img>\nCreated in <span style='font-weight:600;margin-left:4px;'>Deepnote</span></a>",
      "metadata": {
        "created_in_deepnote_cell": true,
        "deepnote_cell_type": "markdown"
      }
    }
  ],
  "nbformat": 4,
  "nbformat_minor": 0,
  "metadata": {
    "deepnote": {},
    "orig_nbformat": 2,
    "deepnote_notebook_id": "38b2e103b0bf433c913a41ecc6880d63",
    "deepnote_persisted_session": {
      "createdAt": "2023-06-13T07:30:37.831Z"
    },
    "deepnote_execution_queue": []
  }
}