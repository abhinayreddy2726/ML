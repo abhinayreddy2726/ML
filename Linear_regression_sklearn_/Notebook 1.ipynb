{
  "cells": [
    {
      "cell_type": "code",
      "source": "import pandas as pd\nimport numpy as np \nimport matplotlib.pyplot as plt\n\nimport matplotlib.axis as ax",
      "metadata": {
        "cell_id": "6a586896128b429ebbc15994dddf306b",
        "source_hash": "be043026",
        "execution_start": 1686568389009,
        "execution_millis": 374,
        "deepnote_to_be_reexecuted": false,
        "deepnote_cell_type": "code"
      },
      "outputs": [],
      "execution_count": 1
    },
    {
      "cell_type": "code",
      "source": "data = pd.read_csv('data_for_lr.csv')",
      "metadata": {
        "cell_id": "2f690c0688354d03b438789b95cecb09",
        "source_hash": "7b430cf6",
        "execution_start": 1686568389385,
        "execution_millis": 10,
        "deepnote_to_be_reexecuted": false,
        "deepnote_cell_type": "code"
      },
      "outputs": [],
      "execution_count": 2
    },
    {
      "cell_type": "code",
      "source": "data.head(10)",
      "metadata": {
        "cell_id": "d879cf82afcc499198ff13698e0a9c15",
        "source_hash": "4d5f977f",
        "execution_start": 1686568389436,
        "execution_millis": 27,
        "deepnote_to_be_reexecuted": false,
        "deepnote_cell_type": "code"
      },
      "outputs": [
        {
          "output_type": "execute_result",
          "execution_count": 3,
          "data": {
            "application/vnd.deepnote.dataframe.v3+json": {
              "column_count": 2,
              "row_count": 10,
              "columns": [
                {
                  "name": "x",
                  "dtype": "float64",
                  "stats": {
                    "unique_count": 10,
                    "nan_count": 0,
                    "min": "5.0",
                    "max": "87.0",
                    "histogram": [
                      {
                        "bin_start": 5,
                        "bin_end": 13.2,
                        "count": 2
                      },
                      {
                        "bin_start": 13.2,
                        "bin_end": 21.4,
                        "count": 1
                      },
                      {
                        "bin_start": 21.4,
                        "bin_end": 29.599999999999998,
                        "count": 2
                      },
                      {
                        "bin_start": 29.599999999999998,
                        "bin_end": 37.8,
                        "count": 1
                      },
                      {
                        "bin_start": 37.8,
                        "bin_end": 46,
                        "count": 1
                      },
                      {
                        "bin_start": 46,
                        "bin_end": 54.199999999999996,
                        "count": 1
                      },
                      {
                        "bin_start": 54.199999999999996,
                        "bin_end": 62.39999999999999,
                        "count": 0
                      },
                      {
                        "bin_start": 62.39999999999999,
                        "bin_end": 70.6,
                        "count": 0
                      },
                      {
                        "bin_start": 70.6,
                        "bin_end": 78.8,
                        "count": 0
                      },
                      {
                        "bin_start": 78.8,
                        "bin_end": 87,
                        "count": 2
                      }
                    ]
                  }
                },
                {
                  "name": "y",
                  "dtype": "float64",
                  "stats": {
                    "unique_count": 10,
                    "nan_count": 0,
                    "min": "6.963319071",
                    "max": "87.28898389",
                    "histogram": [
                      {
                        "bin_start": 6.963319071,
                        "bin_end": 14.995885552899999,
                        "count": 2
                      },
                      {
                        "bin_start": 14.995885552899999,
                        "bin_end": 23.0284520348,
                        "count": 2
                      },
                      {
                        "bin_start": 23.0284520348,
                        "bin_end": 31.061018516700003,
                        "count": 1
                      },
                      {
                        "bin_start": 31.061018516700003,
                        "bin_end": 39.0935849986,
                        "count": 2
                      },
                      {
                        "bin_start": 39.0935849986,
                        "bin_end": 47.1261514805,
                        "count": 0
                      },
                      {
                        "bin_start": 47.1261514805,
                        "bin_end": 55.158717962400004,
                        "count": 1
                      },
                      {
                        "bin_start": 55.158717962400004,
                        "bin_end": 63.1912844443,
                        "count": 0
                      },
                      {
                        "bin_start": 63.1912844443,
                        "bin_end": 71.2238509262,
                        "count": 0
                      },
                      {
                        "bin_start": 71.2238509262,
                        "bin_end": 79.2564174081,
                        "count": 0
                      },
                      {
                        "bin_start": 79.2564174081,
                        "bin_end": 87.28898389,
                        "count": 2
                      }
                    ]
                  }
                },
                {
                  "name": "_deepnote_index_column",
                  "dtype": "int64"
                }
              ],
              "rows": [
                {
                  "x": 24,
                  "y": 21.54945196,
                  "_deepnote_index_column": 0
                },
                {
                  "x": 50,
                  "y": 47.46446305,
                  "_deepnote_index_column": 1
                },
                {
                  "x": 15,
                  "y": 17.21865634,
                  "_deepnote_index_column": 2
                },
                {
                  "x": 38,
                  "y": 36.58639803,
                  "_deepnote_index_column": 3
                },
                {
                  "x": 87,
                  "y": 87.28898389,
                  "_deepnote_index_column": 4
                },
                {
                  "x": 36,
                  "y": 32.46387493,
                  "_deepnote_index_column": 5
                },
                {
                  "x": 12,
                  "y": 10.78089683,
                  "_deepnote_index_column": 6
                },
                {
                  "x": 81,
                  "y": 80.7633986,
                  "_deepnote_index_column": 7
                },
                {
                  "x": 25,
                  "y": 24.61215147,
                  "_deepnote_index_column": 8
                },
                {
                  "x": 5,
                  "y": 6.963319071,
                  "_deepnote_index_column": 9
                }
              ]
            },
            "text/plain": "      x          y\n0  24.0  21.549452\n1  50.0  47.464463\n2  15.0  17.218656\n3  38.0  36.586398\n4  87.0  87.288984\n5  36.0  32.463875\n6  12.0  10.780897\n7  81.0  80.763399\n8  25.0  24.612151\n9   5.0   6.963319",
            "text/html": "<div>\n<style scoped>\n    .dataframe tbody tr th:only-of-type {\n        vertical-align: middle;\n    }\n\n    .dataframe tbody tr th {\n        vertical-align: top;\n    }\n\n    .dataframe thead th {\n        text-align: right;\n    }\n</style>\n<table border=\"1\" class=\"dataframe\">\n  <thead>\n    <tr style=\"text-align: right;\">\n      <th></th>\n      <th>x</th>\n      <th>y</th>\n    </tr>\n  </thead>\n  <tbody>\n    <tr>\n      <th>0</th>\n      <td>24.0</td>\n      <td>21.549452</td>\n    </tr>\n    <tr>\n      <th>1</th>\n      <td>50.0</td>\n      <td>47.464463</td>\n    </tr>\n    <tr>\n      <th>2</th>\n      <td>15.0</td>\n      <td>17.218656</td>\n    </tr>\n    <tr>\n      <th>3</th>\n      <td>38.0</td>\n      <td>36.586398</td>\n    </tr>\n    <tr>\n      <th>4</th>\n      <td>87.0</td>\n      <td>87.288984</td>\n    </tr>\n    <tr>\n      <th>5</th>\n      <td>36.0</td>\n      <td>32.463875</td>\n    </tr>\n    <tr>\n      <th>6</th>\n      <td>12.0</td>\n      <td>10.780897</td>\n    </tr>\n    <tr>\n      <th>7</th>\n      <td>81.0</td>\n      <td>80.763399</td>\n    </tr>\n    <tr>\n      <th>8</th>\n      <td>25.0</td>\n      <td>24.612151</td>\n    </tr>\n    <tr>\n      <th>9</th>\n      <td>5.0</td>\n      <td>6.963319</td>\n    </tr>\n  </tbody>\n</table>\n</div>"
          },
          "metadata": {}
        }
      ],
      "execution_count": 3
    },
    {
      "cell_type": "code",
      "source": "data.info()",
      "metadata": {
        "cell_id": "b8cc11f1b0694eb29eda4ffd4a5b7fc5",
        "source_hash": "957547ae",
        "execution_start": 1686568389461,
        "execution_millis": 5,
        "deepnote_to_be_reexecuted": false,
        "deepnote_cell_type": "code"
      },
      "outputs": [
        {
          "name": "stdout",
          "text": "<class 'pandas.core.frame.DataFrame'>\nRangeIndex: 700 entries, 0 to 699\nData columns (total 2 columns):\n #   Column  Non-Null Count  Dtype  \n---  ------  --------------  -----  \n 0   x       700 non-null    float64\n 1   y       699 non-null    float64\ndtypes: float64(2)\nmemory usage: 11.1 KB\n",
          "output_type": "stream"
        }
      ],
      "execution_count": 4
    },
    {
      "cell_type": "code",
      "source": "data.isnull().sum()",
      "metadata": {
        "cell_id": "3c34fb0d75cb4a18b3c0eddaf48dfae4",
        "source_hash": "878de0e4",
        "execution_start": 1686568389465,
        "execution_millis": 2,
        "deepnote_to_be_reexecuted": false,
        "deepnote_cell_type": "code"
      },
      "outputs": [
        {
          "output_type": "execute_result",
          "execution_count": 5,
          "data": {
            "text/plain": "x    0\ny    1\ndtype: int64"
          },
          "metadata": {}
        }
      ],
      "execution_count": 5
    },
    {
      "cell_type": "code",
      "source": "data=data.dropna()\nprint(\"Shape of the data :\",data.shape)",
      "metadata": {
        "cell_id": "91a88afd33104e90ad731fc66c9c4c58",
        "source_hash": "84bee947",
        "execution_start": 1686568389470,
        "execution_millis": 10,
        "deepnote_to_be_reexecuted": false,
        "deepnote_cell_type": "code"
      },
      "outputs": [
        {
          "name": "stdout",
          "text": "Shape of the data : (699, 2)\n",
          "output_type": "stream"
        }
      ],
      "execution_count": 6
    },
    {
      "cell_type": "code",
      "source": "#train input and outpuet\ntrain_input =np.array(data.x[0:500]).reshape(500,1)\ntrain_output =np.array(data.y[0:500]).reshape(500,1)\n\n#test input and output\ntest_input =np.array(data.x[500:700]).reshape(199,1)\ntest_output =np.array(data.y[500:699]).reshape(199,1)",
      "metadata": {
        "cell_id": "bc217c3be71f4ad08a5389b8eb5c738d",
        "source_hash": "8e253e8c",
        "execution_start": 1686568389483,
        "execution_millis": 2,
        "deepnote_to_be_reexecuted": false,
        "deepnote_cell_type": "code"
      },
      "outputs": [],
      "execution_count": 7
    },
    {
      "cell_type": "code",
      "source": "print(f\"traing input data shape ={train_input.shape}\")\nprint(f\"traing output data shape ={train_output.shape}\")\nprint(f\"test input data shape ={test_input.shape}\")\nprint(f\"traing output data shape ={test_output.shape}\")",
      "metadata": {
        "cell_id": "fac9f7660b0248078b09340cb0fcf624",
        "source_hash": "5cc4602b",
        "execution_start": 1686568389488,
        "execution_millis": 3,
        "deepnote_to_be_reexecuted": false,
        "deepnote_cell_type": "code"
      },
      "outputs": [
        {
          "name": "stdout",
          "text": "traing input data shape =(500, 1)\ntraing output data shape =(500, 1)\ntest input data shape =(199, 1)\ntraing output data shape =(199, 1)\n",
          "output_type": "stream"
        }
      ],
      "execution_count": 8
    },
    {
      "cell_type": "code",
      "source": "from sklearn.linear_model import LinearRegression",
      "metadata": {
        "cell_id": "fa962d1315004b44b725298989721d05",
        "source_hash": "9527aab5",
        "execution_start": 1686568532285,
        "execution_millis": 24,
        "deepnote_to_be_reexecuted": false,
        "deepnote_cell_type": "code"
      },
      "outputs": [],
      "execution_count": 9
    },
    {
      "cell_type": "code",
      "source": "lr_model = LinearRegression()",
      "metadata": {
        "cell_id": "0cb7236c23ad47adbcfc14cebff6b21f",
        "source_hash": "64b5e19f",
        "execution_start": 1686568534151,
        "execution_millis": 10,
        "deepnote_to_be_reexecuted": false,
        "deepnote_cell_type": "code"
      },
      "outputs": [],
      "execution_count": 10
    },
    {
      "cell_type": "code",
      "source": "lr_model.fit(train_input,train_output)",
      "metadata": {
        "cell_id": "2dbe6c544df24138af03fd922bfb62d4",
        "source_hash": "62d7cf4a",
        "execution_start": 1686568535882,
        "execution_millis": 22,
        "deepnote_to_be_reexecuted": false,
        "deepnote_cell_type": "code"
      },
      "outputs": [
        {
          "output_type": "execute_result",
          "execution_count": 11,
          "data": {
            "text/plain": "LinearRegression()",
            "text/html": "<style>#sk-container-id-1 {color: black;background-color: white;}#sk-container-id-1 pre{padding: 0;}#sk-container-id-1 div.sk-toggleable {background-color: white;}#sk-container-id-1 label.sk-toggleable__label {cursor: pointer;display: block;width: 100%;margin-bottom: 0;padding: 0.3em;box-sizing: border-box;text-align: center;}#sk-container-id-1 label.sk-toggleable__label-arrow:before {content: \"▸\";float: left;margin-right: 0.25em;color: #696969;}#sk-container-id-1 label.sk-toggleable__label-arrow:hover:before {color: black;}#sk-container-id-1 div.sk-estimator:hover label.sk-toggleable__label-arrow:before {color: black;}#sk-container-id-1 div.sk-toggleable__content {max-height: 0;max-width: 0;overflow: hidden;text-align: left;background-color: #f0f8ff;}#sk-container-id-1 div.sk-toggleable__content pre {margin: 0.2em;color: black;border-radius: 0.25em;background-color: #f0f8ff;}#sk-container-id-1 input.sk-toggleable__control:checked~div.sk-toggleable__content {max-height: 200px;max-width: 100%;overflow: auto;}#sk-container-id-1 input.sk-toggleable__control:checked~label.sk-toggleable__label-arrow:before {content: \"▾\";}#sk-container-id-1 div.sk-estimator input.sk-toggleable__control:checked~label.sk-toggleable__label {background-color: #d4ebff;}#sk-container-id-1 div.sk-label input.sk-toggleable__control:checked~label.sk-toggleable__label {background-color: #d4ebff;}#sk-container-id-1 input.sk-hidden--visually {border: 0;clip: rect(1px 1px 1px 1px);clip: rect(1px, 1px, 1px, 1px);height: 1px;margin: -1px;overflow: hidden;padding: 0;position: absolute;width: 1px;}#sk-container-id-1 div.sk-estimator {font-family: monospace;background-color: #f0f8ff;border: 1px dotted black;border-radius: 0.25em;box-sizing: border-box;margin-bottom: 0.5em;}#sk-container-id-1 div.sk-estimator:hover {background-color: #d4ebff;}#sk-container-id-1 div.sk-parallel-item::after {content: \"\";width: 100%;border-bottom: 1px solid gray;flex-grow: 1;}#sk-container-id-1 div.sk-label:hover label.sk-toggleable__label {background-color: #d4ebff;}#sk-container-id-1 div.sk-serial::before {content: \"\";position: absolute;border-left: 1px solid gray;box-sizing: border-box;top: 0;bottom: 0;left: 50%;z-index: 0;}#sk-container-id-1 div.sk-serial {display: flex;flex-direction: column;align-items: center;background-color: white;padding-right: 0.2em;padding-left: 0.2em;position: relative;}#sk-container-id-1 div.sk-item {position: relative;z-index: 1;}#sk-container-id-1 div.sk-parallel {display: flex;align-items: stretch;justify-content: center;background-color: white;position: relative;}#sk-container-id-1 div.sk-item::before, #sk-container-id-1 div.sk-parallel-item::before {content: \"\";position: absolute;border-left: 1px solid gray;box-sizing: border-box;top: 0;bottom: 0;left: 50%;z-index: -1;}#sk-container-id-1 div.sk-parallel-item {display: flex;flex-direction: column;z-index: 1;position: relative;background-color: white;}#sk-container-id-1 div.sk-parallel-item:first-child::after {align-self: flex-end;width: 50%;}#sk-container-id-1 div.sk-parallel-item:last-child::after {align-self: flex-start;width: 50%;}#sk-container-id-1 div.sk-parallel-item:only-child::after {width: 0;}#sk-container-id-1 div.sk-dashed-wrapped {border: 1px dashed gray;margin: 0 0.4em 0.5em 0.4em;box-sizing: border-box;padding-bottom: 0.4em;background-color: white;}#sk-container-id-1 div.sk-label label {font-family: monospace;font-weight: bold;display: inline-block;line-height: 1.2em;}#sk-container-id-1 div.sk-label-container {text-align: center;}#sk-container-id-1 div.sk-container {/* jupyter's `normalize.less` sets `[hidden] { display: none; }` but bootstrap.min.css set `[hidden] { display: none !important; }` so we also need the `!important` here to be able to override the default hidden behavior on the sphinx rendered scikit-learn.org. See: https://github.com/scikit-learn/scikit-learn/issues/21755 */display: inline-block !important;position: relative;}#sk-container-id-1 div.sk-text-repr-fallback {display: none;}</style><div id=\"sk-container-id-1\" class=\"sk-top-container\"><div class=\"sk-text-repr-fallback\"><pre>LinearRegression()</pre><b>In a Jupyter environment, please rerun this cell to show the HTML representation or trust the notebook. <br />On GitHub, the HTML representation is unable to render, please try loading this page with nbviewer.org.</b></div><div class=\"sk-container\" hidden><div class=\"sk-item\"><div class=\"sk-estimator sk-toggleable\"><input class=\"sk-toggleable__control sk-hidden--visually\" id=\"sk-estimator-id-1\" type=\"checkbox\" checked><label for=\"sk-estimator-id-1\" class=\"sk-toggleable__label sk-toggleable__label-arrow\">LinearRegression</label><div class=\"sk-toggleable__content\"><pre>LinearRegression()</pre></div></div></div></div></div>"
          },
          "metadata": {}
        }
      ],
      "execution_count": 11
    },
    {
      "cell_type": "code",
      "source": "lr_model.coef_",
      "metadata": {
        "cell_id": "24c4501422384159bb2632206debe344",
        "source_hash": "20756b5b",
        "execution_start": 1686568567156,
        "execution_millis": 4,
        "deepnote_to_be_reexecuted": false,
        "deepnote_cell_type": "code"
      },
      "outputs": [
        {
          "output_type": "execute_result",
          "execution_count": 12,
          "data": {
            "text/plain": "array([[1.0009993]])"
          },
          "metadata": {}
        }
      ],
      "execution_count": 12
    },
    {
      "cell_type": "code",
      "source": "lr_model.intercept_",
      "metadata": {
        "cell_id": "6704911a5d9047b38e217ffc86570af9",
        "source_hash": "d67780f0",
        "execution_start": 1686568578050,
        "execution_millis": 3,
        "deepnote_to_be_reexecuted": false,
        "deepnote_cell_type": "code"
      },
      "outputs": [
        {
          "output_type": "execute_result",
          "execution_count": 13,
          "data": {
            "text/plain": "array([-0.23603461])"
          },
          "metadata": {}
        }
      ],
      "execution_count": 13
    },
    {
      "cell_type": "code",
      "source": "train_predictions = lr_model.predict(test_input)",
      "metadata": {
        "cell_id": "7bd207f327d549c89dcb70671bafc11b",
        "source_hash": "893d1e9f",
        "execution_start": 1686568605160,
        "execution_millis": 2,
        "deepnote_to_be_reexecuted": false,
        "deepnote_cell_type": "code"
      },
      "outputs": [],
      "execution_count": 14
    },
    {
      "cell_type": "code",
      "source": "plt.plot(test_input,test_output,\"*\",color=\"red\")\nplt.plot(test_input,train_predictions,\"+\",color=\"green\")\nplt.title(\"preformance testing\")\nplt.xlabel(\"Input\")\nplt.ylabel(\"output/predictions\")\nplt.show()\n\n",
      "metadata": {
        "cell_id": "5be97e01e6ad4237ab88ec4768aa1954",
        "source_hash": "3954fc6a",
        "execution_start": 1686568805547,
        "execution_millis": 268,
        "deepnote_to_be_reexecuted": false,
        "deepnote_cell_type": "code"
      },
      "outputs": [
        {
          "data": {
            "text/plain": "<Figure size 640x480 with 1 Axes>",
            "image/png": "[encoded data removed]"
          },
          "metadata": {
            "image/png": {
              "width": 571,
              "height": 455
            }
          },
          "output_type": "display_data"
        }
      ],
      "execution_count": 16
    },
    {
      "cell_type": "code",
      "source": "from sklearn.metrics import mean_squared_error\n\ncost = mean_squared_error(test_output,train_predictions)\ncost",
      "metadata": {
        "cell_id": "1d52a822069b492c8b40be17ec9d3683",
        "source_hash": "1573c017",
        "execution_start": 1686569029271,
        "execution_millis": 4,
        "deepnote_to_be_reexecuted": false,
        "deepnote_cell_type": "code"
      },
      "outputs": [
        {
          "output_type": "execute_result",
          "execution_count": 19,
          "data": {
            "text/plain": "8.030031591835378"
          },
          "metadata": {}
        }
      ],
      "execution_count": 19
    },
    {
      "cell_type": "markdown",
      "source": "<a style='text-decoration:none;line-height:16px;display:flex;color:#5B5B62;padding:10px;justify-content:end;' href='https://deepnote.com?utm_source=created-in-deepnote-cell&projectId=d0d7e236-1337-486b-9e85-9de428935192' target=\"_blank\">\n<img alt='Created in deepnote.com' style='display:inline;max-height:16px;margin:0px;margin-right:7.5px;' src='data:image/svg+xml;base64,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' > </img>\nCreated in <span style='font-weight:600;margin-left:4px;'>Deepnote</span></a>",
      "metadata": {
        "created_in_deepnote_cell": true,
        "deepnote_cell_type": "markdown"
      }
    }
  ],
  "nbformat": 4,
  "nbformat_minor": 0,
  "metadata": {
    "deepnote": {},
    "orig_nbformat": 2,
    "deepnote_notebook_id": "cd5b6a7fac254a15a501d906f2a8a527",
    "deepnote_persisted_session": {
      "createdAt": "2023-06-12T11:46:42.028Z"
    },
    "deepnote_execution_queue": []
  }
}